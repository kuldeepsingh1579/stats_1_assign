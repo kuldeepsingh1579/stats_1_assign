{
 "cells": [
  {
   "cell_type": "raw",
   "id": "e5741e9f-4ebd-4f05-8214-c1bd7bb2d85a",
   "metadata": {},
   "source": [
    "Question-No.1"
   ]
  },
  {
   "cell_type": "raw",
   "id": "d343b959-876a-40ec-8548-906d79038134",
   "metadata": {},
   "source": [
    "Statistic is the collection of data , tabulation and interpolation of numeric data. It allows us to describe, summarize and represent of data visually.\n",
    "                    OR\n",
    "Statistics is the science of collecting, organizing and  analyzing data visually.\n",
    "\n",
    "The primary goals of statistics include:-\n",
    "1- Describing Data\n",
    "2- Inferential Analysis\n",
    "3- Relationship Analysis\n",
    "4- Predictive Modeling\n",
    "5- Decision making"
   ]
  },
  {
   "cell_type": "raw",
   "id": "7d692837-09fe-4d7b-b402-8de3c80bc590",
   "metadata": {},
   "source": [
    "Question-No.2"
   ]
  },
  {
   "cell_type": "raw",
   "id": "7e11de5a-9a30-4618-a29d-327551ae4fc8",
   "metadata": {},
   "source": [
    "There are two types of statistics--\n",
    "\n",
    "1- Descriptive Statistics: This branch focuses on summarizing and presenting data in a meaningful way. It involves measures of central tendency (mean, median, mode) and measures of dispersion (range, variance, standard deviation) to provide a clear picture of the data.\n",
    "\n",
    "Example: Imagine a researcher collects data on the ages of a group of people attending a music festival. They calculate the mean (average) age, median (middle age), and standard deviation (measure of age variation) of the attendees' ages. These descriptive statistics provide insights into the typical age of the festival-goers and how spread out the ages are\n",
    "\n",
    "2- Inferential Statistics: This branch involves making predictions or drawing conclusions about a larger population based on a smaller sample of data. Techniques like hypothesis testing, confidence intervals, and regression analysis fall under this category.\n",
    "\n",
    "Example: A political pollster wants to predict the outcome of an upcoming election. They select a random sample of voters and ask them about their voting preferences. By analyzing the data from the sample, the pollster can estimate the proportion of voters who support each candidate, along with a margin of error. "
   ]
  },
  {
   "cell_type": "raw",
   "id": "8a8c8514-80af-4a1a-9ced-7eae18784dc1",
   "metadata": {},
   "source": [
    "Question-No.3"
   ]
  },
  {
   "cell_type": "raw",
   "id": "d6dd6458-e4ae-4f59-bdd2-499c2d1b69b5",
   "metadata": {},
   "source": [
    "These are the different types of data in statistics--\n",
    "\n",
    "1- Qualitative data- Qualitative or Categorical Data is data that can’t be measured or counted in the form of numbers. These types of data are sorted by category, not by number. That’s why it is also known as Categorical Data. These data consist of audio, images, symbols, or text. The gender of a person, i.e., male, female, or others, is qualitative data.\n",
    "\n",
    "Qualitative data is further divided into two parts-\n",
    "\n",
    "1- Nominal data- Nominal Data is used to label variables without any order or quantitative value. The color of hair can be considered nominal data, as one color can’t be compared with another color.\n",
    "\n",
    "2- Ordinal data- Ordinal data also represent categories, but they have a meaningful order or ranking. The differences between categories are not quantifiable, but the order matters.\n",
    "\n",
    "Example: Education levels (e.g., high school, bachelor's degree, master's degree). While there's an order, the actual difference in \"magnitude\" between education levels isn't defined.\n",
    "\n",
    "2- Quantitative data- Quantitative data can be expressed in numerical values, making it countable and including statistical data analysis. These kinds of data are also known as Numerical data. For example, the price of a phone, the computer’s ram, the height or weight of a person, etc.\n",
    "\n",
    "Quantitative data can also divided into two parts--\n",
    "\n",
    "1- Discrete data- The term discrete means distinct or separate. The discrete data contain the values that fall under integers or whole numbers.\n",
    "Example- Total numbers of students present in a class\n",
    "         Cost of a cell phone\n",
    "         \n",
    "2- Continuous data- Continuous data are in the form of fractional numbers. It can be the version of an android phone, the height of a person, the length of an object, etc."
   ]
  },
  {
   "cell_type": "raw",
   "id": "6843d57d-7a36-4e30-b74a-156f135bb152",
   "metadata": {},
   "source": [
    "Question-No.4"
   ]
  },
  {
   "cell_type": "raw",
   "id": "bd0c74b4-04e2-450a-b195-07a29e5f1182",
   "metadata": {},
   "source": [
    "(i) Grading in exam: A+, A, B+, B, C+, C, D, E  --> Qualitative data (Ordinal data)\n",
    "(ii) Colour of mangoes: yellow, green, orange, red --> Qualitative data (Nominal data )\n",
    "(iii) Height data of a class: [178.9, 179, 179.5, 176, 177.2, 178.3, 175.8,...] --> Quantitative (Continuous data)\n",
    "(iv) Number of mangoes exported by a farm: [500, 600, 478, 672, ...] --> Quantitative (Discrete data )"
   ]
  },
  {
   "cell_type": "raw",
   "id": "4a46d116-8896-40d6-9cb6-8e5d63806aa2",
   "metadata": {},
   "source": [
    "Question-No.5"
   ]
  },
  {
   "cell_type": "raw",
   "id": "6b1a1d43-339d-4147-aab3-7d7943b4d89d",
   "metadata": {},
   "source": [
    "Levels of measurement, also known as scales of measurement, refer to the different ways in which data can be measured and categorized based on their properties and characteristics. These levels help us understand the nature of the data and determine what statistical analyses and operations are appropriate to apply to them. There are four main levels of measurement: nominal, ordinal, interval, and ratio.\n",
    "\n",
    "1- Nominal Level:\n",
    "Example: Eye color of individuals (blue, brown, green). The categories have no inherent order, and you can't perform mathematical operations on them.\n",
    "\n",
    "2- Ordinal Level:\n",
    "Example: Education levels (elementary, high school, college, graduate). While you can order these categories from least to most education, the differences between them might not be uniform or meaningful in terms of education level.\n",
    "\n",
    "3- Interval level:\n",
    "Example: Temperature in Celsius or Fahrenheit. While you can perform operations like addition and subtraction on temperature values, a temperature of 0°C or 0°F doesn't represent a complete absence of temperature.\n",
    "\n",
    "4- Ratio level:\n",
    "Example: Height, weight, income, number of items. A height of 0 cm indicates no height, and you can not only compare ratios (e.g., one person's height is twice that of another) but also perform arithmetic operations (e.g., doubling the weight)."
   ]
  },
  {
   "cell_type": "raw",
   "id": "8dfc7e16-8003-4c0a-9180-0c166c578b7b",
   "metadata": {},
   "source": [
    "Question-No.6"
   ]
  },
  {
   "cell_type": "raw",
   "id": "dd253cd7-7a1b-42b4-9271-472d4dfbd521",
   "metadata": {},
   "source": [
    "Understanding the level of measurement when analyzing data is crucial because it dictates the types of statistical analyses and operations that can be appropriately applied to the data. Different levels of measurement come with different properties and restrictions, and using the wrong analysis for a given level of measurement can lead to inaccurate or misleading results.\n",
    "Imagine you are conducting a study to analyze the performance of students in a school based on their grades, which are categorized as A, B, C, D, and F.\n",
    "If you mistakenly treat these grades as numerical values and apply arithmetic operations like calculating the mean (average) grade, you might end up with misleading results. In this case, the grades are at the nominal level of measurement, which means they are categories without any inherent numerical value. Treating them as numerical values could lead to incorrect conclusions. For instance, calculating the mean grade as (A + B + C + D + F) / 5 = 2.6 might suggest an average grade that doesn't actually exist (e.g., \"B-\" as an average grade), which doesn't make sense in the context of grades."
   ]
  },
  {
   "cell_type": "raw",
   "id": "5b85049e-ab07-4eff-a79b-738a1d60d827",
   "metadata": {},
   "source": [
    "Question-No.7"
   ]
  },
  {
   "cell_type": "raw",
   "id": "eb4d837f-5eb2-4a86-9609-bd02e139c55f",
   "metadata": {},
   "source": [
    "Nominal and ordinal data types are both categorical data types, but they differ in terms of the level of information and meaning they convey about the categories they represent. \n",
    "1- Nominal Data:\n",
    "\n",
    "Nominal data consist of categories or labels used to differentiate between distinct groups.\n",
    "The categories in nominal data have no inherent order or ranking. They are simply used to classify items into different groups.\n",
    "Arithmetic operations like addition, subtraction, multiplication, or division are not meaningful for nominal data.\n",
    "Examples of nominal data include gender (male, female), eye color (blue, brown, green), and types of fruits (apple, banana, orange).\n",
    "\n",
    "2- Ordinal Data:\n",
    "\n",
    "Ordinal data also consist of categories, but these categories have a meaningful order or ranking.\n",
    "The key characteristic of ordinal data is that the categories can be arranged in a specific order to indicate relative positions or rankings.\n",
    "While the order matters, the intervals between the categories might not be uniform or meaningful. In other words, the differences between the categories may not have a consistent measurement.\n",
    "Arithmetic operations like addition and subtraction are not appropriate for ordinal data due to the lack of consistent interval distances.\n",
    "Examples of ordinal data include educational levels (elementary, high school, college, graduate), Likert scale ratings (strongly disagree, disagree, neutral, agree, strongly agree), and socio-economic status (low, medium, high)."
   ]
  },
  {
   "cell_type": "raw",
   "id": "ecb773db-75bf-481f-843c-096f1be05bf6",
   "metadata": {},
   "source": [
    "Question-No.8\n",
    "Which type of plot can be used to display data in terms of range?"
   ]
  },
  {
   "cell_type": "raw",
   "id": "77072707-1cfa-4ab5-b570-564e52499f6b",
   "metadata": {},
   "source": [
    "A type of plot that can be used to display data in terms of range is a \"Box Plot,\" also known as a \"Box-and-Whisker Plot.\" Box plots are particularly useful for visualizing the distribution of data and highlighting key summary statistics such as the median, quartiles, and potential outliers."
   ]
  },
  {
   "cell_type": "raw",
   "id": "fa8ae452-f66c-422f-9b8a-fa662b8a4d48",
   "metadata": {},
   "source": [
    "Question-No.10"
   ]
  },
  {
   "cell_type": "raw",
   "id": "15d52868-a32b-4ee2-813c-55682e91e2ac",
   "metadata": {},
   "source": [
    "Measures of central tendency and variability are essential statistical tools that provide insights into the characteristics of a dataset. They help us understand the center and spread of the data distribution\n",
    "\n",
    "1- Measures of Central Tendency:\n",
    "These measures provide information about the central or typical value around which the data tends to cluster.\n",
    "\n",
    "Mean: The mean is the average of all the data points in a dataset. It's calculated by summing up all the values and dividing by the total number of values. The mean can be affected by outliers and extreme values, and it provides a measure of the \"balance point\" of the data.\n",
    "\n",
    "Median: The median is the middle value when the dataset is arranged in ascending order. It's less affected by outliers compared to the mean and provides a better representation of the \"typical\" value, especially in skewed distributions.\n",
    "\n",
    "Mode: The mode is the value that appears most frequently in the dataset. It's suitable for categorical data and can also be used with continuous data.\n",
    "\n",
    "2- Measures of Variability:\n",
    "These measures provide insights into how spread out the data points are around the central value.\n",
    "\n",
    "Range: The range is the difference between the maximum and minimum values in the dataset. It's a simple measure of variability, but it's sensitive to outliers and might not accurately represent the data's overall spread.\n",
    "\n",
    "Variance: Variance quantifies the average squared deviation of each data point from the mean. It gives a comprehensive measure of how much individual data points vary from the mean. However, it's in squared units, which might be less intuitive to interpret.\n",
    "\n",
    "Standard Deviation: The standard deviation is the square root of the variance. It's a widely used measure of variability because it's in the same units as the data and provides a sense of how much individual data points deviate from the mean. A higher standard deviation indicates greater variability.\n",
    "\n",
    "Interquartile Range (IQR): The IQR is the range between the first quartile (Q1) and the third quartile (Q3). It provides a measure of the spread of the middle 50% of the data and is less sensitive to outliers compared to the range."
   ]
  }
 ],
 "metadata": {
  "kernelspec": {
   "display_name": "Python 3 (ipykernel)",
   "language": "python",
   "name": "python3"
  },
  "language_info": {
   "codemirror_mode": {
    "name": "ipython",
    "version": 3
   },
   "file_extension": ".py",
   "mimetype": "text/x-python",
   "name": "python",
   "nbconvert_exporter": "python",
   "pygments_lexer": "ipython3",
   "version": "3.10.8"
  }
 },
 "nbformat": 4,
 "nbformat_minor": 5
}
